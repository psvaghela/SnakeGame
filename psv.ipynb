{
 "cells": [
  {
   "cell_type": "code",
   "execution_count": 1,
   "metadata": {},
   "outputs": [
    {
     "name": "stdout",
     "output_type": "stream",
     "text": [
      "maja ma\n"
     ]
    }
   ],
   "source": [
    "print(\"maja ma\")"
   ]
  },
  {
   "cell_type": "code",
   "execution_count": 1,
   "metadata": {},
   "outputs": [
    {
     "name": "stdout",
     "output_type": "stream",
     "text": [
      "Second element = 2\n",
      "An error occurred\n"
     ]
    }
   ],
   "source": [
    "a = [1, 2, 3]\n",
    "try:\n",
    "    print (\"Second element = %d\" %(a[1]))\n",
    " \n",
    "    # Throws error since there are only 3 elements in array\n",
    "    print (\"Fourth element = %d\" %(a[3]))\n",
    " \n",
    "except:\n",
    "    print (\"An error occurred\")"
   ]
  },
  {
   "cell_type": "code",
   "execution_count": 15,
   "metadata": {},
   "outputs": [
    {
     "name": "stdout",
     "output_type": "stream",
     "text": [
      "\u001b[1;31mSignature:\u001b[0m \u001b[0mpd\u001b[0m\u001b[1;33m.\u001b[0m\u001b[0mshow_versions\u001b[0m\u001b[1;33m(\u001b[0m\u001b[0mas_json\u001b[0m\u001b[1;33m:\u001b[0m \u001b[1;34m'str | bool'\u001b[0m \u001b[1;33m=\u001b[0m \u001b[1;32mFalse\u001b[0m\u001b[1;33m)\u001b[0m \u001b[1;33m->\u001b[0m \u001b[1;34m'None'\u001b[0m\u001b[1;33m\u001b[0m\u001b[1;33m\u001b[0m\u001b[0m\n",
      "\u001b[1;31mDocstring:\u001b[0m\n",
      "Provide useful information, important for bug reports.\n",
      "\n",
      "It comprises info about hosting operation system, pandas version,\n",
      "and versions of other installed relative packages.\n",
      "\n",
      "Parameters\n",
      "----------\n",
      "as_json : str or bool, default False\n",
      "    * If False, outputs info in a human readable form to the console.\n",
      "    * If str, it will be considered as a path to a file.\n",
      "      Info will be written to that file in JSON format.\n",
      "    * If True, outputs info in JSON format to the console.\n",
      "\u001b[1;31mFile:\u001b[0m      c:\\users\\dell\\appdata\\local\\packages\\pythonsoftwarefoundation.python.3.9_qbz5n2kfra8p0\\localcache\\local-packages\\python39\\site-packages\\pandas\\util\\_print_versions.py\n",
      "\u001b[1;31mType:\u001b[0m      function\n"
     ]
    }
   ],
   "source": [
    "import pandas as pd\n",
    "pd.show_versions"
   ]
  },
  {
   "cell_type": "code",
   "execution_count": null,
   "metadata": {},
   "outputs": [],
   "source": []
  },
  {
   "cell_type": "code",
   "execution_count": 1,
   "metadata": {},
   "outputs": [],
   "source": [
    "from datetime import date\n"
   ]
  },
  {
   "cell_type": "code",
   "execution_count": 6,
   "metadata": {},
   "outputs": [],
   "source": [
    "dt = str(date.today())\n",
    "file_name = \"laravel.csv\"\n"
   ]
  },
  {
   "cell_type": "code",
   "execution_count": 8,
   "metadata": {},
   "outputs": [
    {
     "name": "stdout",
     "output_type": "stream",
     "text": [
      "E:\\HR_DB\\2022-07-14\\Final\\2022-07-13_laravel.csv\n"
     ]
    }
   ],
   "source": [
    "file_final = \"E:\\\\HR_DB\\\\2022-07-14\\\\Final\\\\\" + dt + \"_\" + file_name\n",
    "print(file_final)"
   ]
  },
  {
   "cell_type": "code",
   "execution_count": 18,
   "metadata": {},
   "outputs": [
    {
     "name": "stdout",
     "output_type": "stream",
     "text": [
      "3\n",
      "done.....\n"
     ]
    }
   ],
   "source": [
    "x = [1,2,3,4]\n",
    "try:\n",
    "    print(x[2])\n",
    "except IndexError:\n",
    "    print(\"None\")\n",
    "finally:\n",
    "    print(\"done.....\")"
   ]
  },
  {
   "cell_type": "code",
   "execution_count": 4,
   "metadata": {},
   "outputs": [
    {
     "name": "stdout",
     "output_type": "stream",
     "text": [
      "E:\\HR_DB\\2022-07-15\\New\\2022-07-15_laravel.csv\n",
      "E:\\HR_DB\\2022-07-14\\New\\2022-07-14_laravel.csv\n",
      "E:\\HR_DB\\2022-07-15\\Final\\2022-07-15_laravel.csv\n"
     ]
    }
   ],
   "source": [
    "from datetime import date\n",
    "dt = str(date.today())   # Today's date\n",
    "file_name = \"laravel.csv\"\n",
    "dy = dt.replace(dt[-1],str(int(dt[-1])-1))\n",
    "file_new = \"E:\\\\HR_DB\\\\\" + dt + \"\\\\New\\\\\" + dt + \"_\" + file_name  # New File\n",
    "file_old = \"E:\\\\HR_DB\\\\\" + dy + \"\\\\New\\\\\" + dy + \"_\" + file_name   # Old File(yesterday's)\n",
    "file_final = \"E:\\\\HR_DB\\\\\" + dt + \"\\\\Final\\\\\" + dt + \"_\" + file_name # Final file containing unique elements.\n",
    "\n",
    "print(file_new)\n",
    "print(file_old)\n",
    "print(file_final)"
   ]
  },
  {
   "cell_type": "code",
   "execution_count": 10,
   "metadata": {},
   "outputs": [
    {
     "name": "stdout",
     "output_type": "stream",
     "text": [
      "2022-07-15 00:00:00\n"
     ]
    }
   ],
   "source": [
    "from datetime import datetime\n",
    "run_date=str(date.today())\n",
    "\n",
    "rday=run_date[8:10]\n",
    "rmonth=run_date[5:7]\n",
    "ryear=run_date[0:4]\n",
    "rd =str(ryear+\"/\"+rmonth+\"/\"+rday)\n",
    "d1 = datetime.strptime(rd, \"%Y/%m/%d\")\n",
    "print(d1)"
   ]
  },
  {
   "cell_type": "code",
   "execution_count": 1,
   "metadata": {},
   "outputs": [
    {
     "name": "stdout",
     "output_type": "stream",
     "text": [
      "2022-07-15\n"
     ]
    }
   ],
   "source": [
    "from datetime import date  \n",
    "print(str(date.today()))"
   ]
  },
  {
   "cell_type": "code",
   "execution_count": 3,
   "metadata": {},
   "outputs": [],
   "source": [
    "from datetime import date\n",
    "\n",
    "dt = str(date.today())   # Today's date\n",
    "dy = dt.replace(dt[-1],str(int(dt[-1])-1))  # yesterday date\n"
   ]
  },
  {
   "cell_type": "code",
   "execution_count": 4,
   "metadata": {},
   "outputs": [
    {
     "name": "stdout",
     "output_type": "stream",
     "text": [
      "E:\\TECH_DB\\2022-07-15\\wordpress.csv\n",
      "E:\\TECH_DB\\2022-07-15\\wordpress.csv\n"
     ]
    }
   ],
   "source": [
    "file_name = \"wordpress.csv\"\n",
    "path_old = \"E:\\\\TECH_DB\\\\\" + dy + \"\\\\\" + file_name  # Yesterday\n",
    "path_file = \"E:\\\\TECH_DB\\\\\" + dt + \"\\\\\" + file_name  # New posts that are increased Today than yesterday\n",
    "print(path_file)\n",
    "print(path_file)"
   ]
  },
  {
   "cell_type": "code",
   "execution_count": 3,
   "metadata": {},
   "outputs": [
    {
     "name": "stdout",
     "output_type": "stream",
     "text": [
      "1 6 8 2 55 8 7 5\n"
     ]
    }
   ],
   "source": [
    "x = [1,6,8,2,55,8,7,5]\n",
    "print(*x,sep=\" \")"
   ]
  },
  {
   "cell_type": "code",
   "execution_count": 5,
   "metadata": {},
   "outputs": [
    {
     "name": "stdout",
     "output_type": "stream",
     "text": [
      "Nonke\n"
     ]
    }
   ],
   "source": [
    "l = str(input())\n",
    "if int(l) == l :\n",
    "    print('Integer')\n",
    "elif float(l) == l :\n",
    "    print('Float')\n",
    "else :\n",
    "    print('Nonke')"
   ]
  },
  {
   "cell_type": "code",
   "execution_count": 31,
   "metadata": {},
   "outputs": [
    {
     "name": "stdout",
     "output_type": "stream",
     "text": [
      "None\n"
     ]
    }
   ],
   "source": [
    "a = str(input())\n",
    "if a.isdigit():\n",
    "    print(\"Integer\")\n",
    "elif a.replace('.','').isdigit():\n",
    "    print(\"Float\")\n",
    "else:\n",
    "    print(\"None\")"
   ]
  },
  {
   "cell_type": "code",
   "execution_count": 3,
   "metadata": {},
   "outputs": [
    {
     "name": "stdout",
     "output_type": "stream",
     "text": [
      "['4458522155']\n"
     ]
    }
   ],
   "source": [
    "x = '4458522155'\n",
    "print(x.split(''))"
   ]
  },
  {
   "cell_type": "code",
   "execution_count": 1,
   "metadata": {},
   "outputs": [
    {
     "data": {
      "text/plain": [
       "',1,2,3,4,'"
      ]
     },
     "execution_count": 1,
     "metadata": {},
     "output_type": "execute_result"
    }
   ],
   "source": [
    "x = \"1234\"\n",
    "x.replace('',',')"
   ]
  },
  {
   "cell_type": "code",
   "execution_count": 1,
   "metadata": {},
   "outputs": [
    {
     "name": "stdout",
     "output_type": "stream",
     "text": [
      "2022-07-22\n",
      "1011-07-11\n"
     ]
    }
   ],
   "source": [
    "from datetime import date\n",
    "dt = str(date.today())   # Today's date\n",
    "dy = dt.replace(dt[-1],str(int(dt[-1])-1)) \n",
    "print(dt)\n",
    "print(dy)"
   ]
  },
  {
   "cell_type": "code",
   "execution_count": 2,
   "metadata": {},
   "outputs": [
    {
     "name": "stdout",
     "output_type": "stream",
     "text": [
      "E:\\HR_DB\\2022-07-22\\2022-07-22_wordpress.csv\n",
      "<class 'str'>\n"
     ]
    }
   ],
   "source": [
    "file_name = \"wordpress.csv\"\n",
    "file_final = \"E:\\\\HR_DB\\\\\" + dt + \"\\\\\" + dt + \"_\" + file_name\n",
    "print(file_final)\n",
    "print(type(file_final))"
   ]
  },
  {
   "cell_type": "code",
   "execution_count": 1,
   "metadata": {},
   "outputs": [
    {
     "name": "stdout",
     "output_type": "stream",
     "text": [
      "2022-08-03\n",
      "<class 'str'>\n"
     ]
    }
   ],
   "source": [
    "from datetime import date\n",
    "\n",
    "dt = str(date.today())   # Today's date\n",
    "dy = dt.replace(dt[-1],str(int(dt[-1])-1))  # yesterday date\n",
    "\n",
    "print(dy)\n",
    "print(type(dy))"
   ]
  },
  {
   "cell_type": "code",
   "execution_count": 1,
   "metadata": {},
   "outputs": [],
   "source": [
    "import pandas as pd"
   ]
  },
  {
   "cell_type": "code",
   "execution_count": 9,
   "metadata": {},
   "outputs": [],
   "source": [
    "import tkinter\n",
    "from tkinter import simpledialog"
   ]
  },
  {
   "cell_type": "code",
   "execution_count": 10,
   "metadata": {},
   "outputs": [
    {
     "name": "stderr",
     "output_type": "stream",
     "text": [
      "Exception in Tkinter callback\n",
      "Traceback (most recent call last):\n",
      "  File \"C:\\Program Files\\WindowsApps\\PythonSoftwareFoundation.Python.3.9_3.9.3568.0_x64__qbz5n2kfra8p0\\lib\\tkinter\\__init__.py\", line 1889, in __call__\n",
      "    try:\n",
      "KeyboardInterrupt\n"
     ]
    },
    {
     "name": "stdout",
     "output_type": "stream",
     "text": [
      "['']\n"
     ]
    }
   ],
   "source": [
    "window = tkinter.Tk()\n",
    "window.withdraw()\n",
    "tdef = \"laravel,wordpress,magento,node,flutter,MERN,react,UI/UX,web designing,android,ios,SEO,digital marketing\"\n",
    "techs = simpledialog.askstring(title=\"Technologies List\",prompt=\"Enter Technologies Separated by Comma:\")\n",
    "if techs==None:\n",
    "    techs = tdef\n",
    "techl = techs.split(',')\n",
    "print(techl)"
   ]
  },
  {
   "cell_type": "code",
   "execution_count": 23,
   "metadata": {},
   "outputs": [
    {
     "name": "stdout",
     "output_type": "stream",
     "text": [
      "2022-08-30\n",
      "3\n",
      "2022-08-40\n",
      "E:\\HR_DB\\2022-08-40\\New\\2022-08-40_laravel\n"
     ]
    }
   ],
   "source": [
    "from datetime import date\n",
    "\n",
    "file_name = \"laravel\"\n",
    "dt = str(date.today())   # Today's date\n",
    "print(dt)\n",
    "print(dt[-2:-1])\n",
    "dy = dt.replace(dt[-3:-1],str(int(dt[-3:-1])-1))\n",
    "print(dy)\n",
    "file_old = \"E:\\\\HR_DB\\\\\" + dy + \"\\\\New\\\\\" + dy + \"_\" + file_name\n",
    "print(file_old)"
   ]
  },
  {
   "cell_type": "code",
   "execution_count": 19,
   "metadata": {},
   "outputs": [
    {
     "name": "stdout",
     "output_type": "stream",
     "text": [
      "ygs\n"
     ]
    }
   ],
   "source": [
    "s = \"jbygweftvygsx\"\n",
    "print(s[-4:-1])"
   ]
  },
  {
   "cell_type": "code",
   "execution_count": 1,
   "metadata": {},
   "outputs": [
    {
     "name": "stdout",
     "output_type": "stream",
     "text": [
      "e:\\PSV_vs\n"
     ]
    }
   ],
   "source": [
    "!cd"
   ]
  },
  {
   "cell_type": "code",
   "execution_count": 1,
   "metadata": {},
   "outputs": [
    {
     "name": "stdout",
     "output_type": "stream",
     "text": [
      "no\n"
     ]
    }
   ],
   "source": [
    "a = int(input())\n",
    "#s = []\n",
    "\n",
    "'''for i in range(1,a+1):\n",
    "    if((i-1)%6==0):\n",
    "        s.append(i)\n",
    "    if((i+3)%6==0):\n",
    "        s.append(i)\n",
    "    if(i%6==0):\n",
    "        s.append(i)'''\n",
    "\n",
    "if((a==0) or (a-1)%6==0 or (a+3)%6==0 or (a%6==0)):\n",
    "    print('yes')\n",
    "else:\n",
    "    print('no')"
   ]
  },
  {
   "cell_type": "code",
   "execution_count": 6,
   "metadata": {},
   "outputs": [
    {
     "name": "stdout",
     "output_type": "stream",
     "text": [
      "['1', '3', '4', '2']\n",
      "<class 'str'>\n",
      "<class 'int'>\n",
      "<class 'str'>\n",
      "<class 'int'>\n",
      "<class 'str'>\n",
      "<class 'int'>\n",
      "<class 'str'>\n",
      "<class 'int'>\n",
      "['1', '3', '4', '2']\n",
      "['1', '2', '3', '4']\n"
     ]
    }
   ],
   "source": [
    "v = \"1 3 4 2\"\n",
    "p = v.split(' ')\n",
    "print(p)\n",
    "for k in p:\n",
    "    print(type(k))\n",
    "    k = int(k)\n",
    "    print(type(k))\n",
    "print(p)\n",
    "p.sort()\n",
    "print(p)"
   ]
  },
  {
   "cell_type": "code",
   "execution_count": 13,
   "metadata": {},
   "outputs": [
    {
     "name": "stdout",
     "output_type": "stream",
     "text": [
      "<class 'str'>\n",
      "<class 'int'>\n",
      "<class 'str'>\n",
      "<class 'int'>\n",
      "<class 'str'>\n",
      "<class 'int'>\n",
      "<class 'str'>\n",
      "<class 'int'>\n",
      "<class 'str'>\n",
      "<class 'int'>\n",
      "1\n"
     ]
    }
   ],
   "source": [
    "T = int(input())\n",
    "\n",
    "for i in range(T):\n",
    "    N = int(input())\n",
    "    L = str(input())\n",
    "    K = int(input())\n",
    "    LL = L.split(' ')\n",
    "    for k in LL:\n",
    "        print(type(k))\n",
    "        k = int(k)\n",
    "        print(type(k))\n",
    "    \n",
    "    uncle = LL[K-1]\n",
    "    LL.sort()\n",
    "    new_uncle = LL.index(uncle) + 1\n",
    "    print(new_uncle)"
   ]
  },
  {
   "cell_type": "code",
   "execution_count": 14,
   "metadata": {},
   "outputs": [
    {
     "data": {
      "text/plain": [
       "5"
      ]
     },
     "execution_count": 14,
     "metadata": {},
     "output_type": "execute_result"
    }
   ],
   "source": [
    "int(5)"
   ]
  },
  {
   "cell_type": "code",
   "execution_count": null,
   "metadata": {},
   "outputs": [],
   "source": [
    "p = \"1 2 3 9 4\"\n",
    "x = p.split()\n",
    "print(x)"
   ]
  },
  {
   "cell_type": "code",
   "execution_count": 2,
   "metadata": {},
   "outputs": [
    {
     "name": "stdout",
     "output_type": "stream",
     "text": [
      "1 2\n",
      "3 4\n",
      "5 6\n"
     ]
    }
   ],
   "source": [
    "x = [[1,2],[3,4],[5,6]]\n",
    "for x,y in x:\n",
    "    print(x,y)"
   ]
  },
  {
   "cell_type": "code",
   "execution_count": 2,
   "metadata": {},
   "outputs": [],
   "source": [
    "import sys\n",
    "sys.setrecursionlimit(1500000)\n",
    "\n",
    "def binarySearchIndexAndComparisons(L,k):\n",
    "    p=1\n",
    "    h = len(L)\n",
    "    mid = (L[0]+L[h-1])//2\n",
    "    if k==mid:\n",
    "        return((True,p))\n",
    "    elif k<mid:\n",
    "        binarySearchIndexAndComparisons(L[:mid],k)\n",
    "        p += 1\n",
    "    elif k>mid:\n",
    "        binarySearchIndexAndComparisons(L[mid+1:],k)\n",
    "        p +=1"
   ]
  },
  {
   "cell_type": "code",
   "execution_count": null,
   "metadata": {},
   "outputs": [
    {
     "ename": "",
     "evalue": "",
     "output_type": "error",
     "traceback": [
      "\u001b[1;31mCanceled future for execute_request message before replies were done"
     ]
    },
    {
     "ename": "",
     "evalue": "",
     "output_type": "error",
     "traceback": [
      "\u001b[1;31mThe Kernel crashed while executing code in the the current cell or a previous cell. Please review the code in the cell(s) to identify a possible cause of the failure. Click <a href='https://aka.ms/vscodeJupyterKernelCrash'>here</a> for more info. View Jupyter <a href='command:jupyter.viewOutput'>log</a> for further details."
     ]
    }
   ],
   "source": [
    "binarySearchIndexAndComparisons([2, 6, 8, 11, 17, 23, 33, 44, 46, 50, 65],11)"
   ]
  },
  {
   "cell_type": "code",
   "execution_count": 3,
   "metadata": {},
   "outputs": [],
   "source": [
    "def input():\n",
    "    import tkinter\n",
    "    from tkinter import simpledialog\n",
    "\n",
    "    window = tkinter.Tk()\n",
    "    window.withdraw()\n",
    "    tdef = \"laravel,wordpress,magento,node,flutter,MERN,react,UIUX,web designing,android,ios,SEO,digital marketing\"\n",
    "    techs = simpledialog.askstring(title=\"Technologies List\",prompt=\"Enter Technologies Separated by Comma:\")\n",
    "    if techs=='' or techs ==0:\n",
    "        techs = tdef\n",
    "    tech1 = str(techs).split(',')\n",
    "    return tech1\n",
    "\n",
    "techdata = input()"
   ]
  },
  {
   "cell_type": "code",
   "execution_count": 4,
   "metadata": {},
   "outputs": [
    {
     "name": "stdout",
     "output_type": "stream",
     "text": [
      "['laravel', 'wordpress', 'magento', 'node', 'flutter', 'MERN', 'react', 'UIUX', 'web designing', 'android', 'ios', 'SEO', 'digital marketing']\n"
     ]
    }
   ],
   "source": [
    "print(techdata)"
   ]
  },
  {
   "cell_type": "code",
   "execution_count": 2,
   "metadata": {},
   "outputs": [
    {
     "name": "stdout",
     "output_type": "stream",
     "text": [
      "9157908820\n",
      "9157908821\n",
      "9157908822\n",
      "9157908823\n",
      "9157908824\n",
      "9157908825\n",
      "9157908826\n",
      "9157908827\n",
      "9157908828\n",
      "9157908829\n"
     ]
    }
   ],
   "source": [
    "passw = \"915790882\"\n",
    "\n",
    "for i in range(10):\n",
    "    try:\n",
    "        print(passw+str(i))\n",
    "    except:\n",
    "        print(0)"
   ]
  },
  {
   "cell_type": "code",
   "execution_count": 1,
   "metadata": {},
   "outputs": [
    {
     "name": "stdout",
     "output_type": "stream",
     "text": [
      "300\n"
     ]
    }
   ],
   "source": [
    "x = (300, 332, 3)\n",
    "print(x[0])"
   ]
  },
  {
   "cell_type": "code",
   "execution_count": null,
   "metadata": {},
   "outputs": [],
   "source": []
  }
 ],
 "metadata": {
  "kernelspec": {
   "display_name": "Python 3.9.13 64-bit (microsoft store)",
   "language": "python",
   "name": "python3"
  },
  "language_info": {
   "codemirror_mode": {
    "name": "ipython",
    "version": 3
   },
   "file_extension": ".py",
   "mimetype": "text/x-python",
   "name": "python",
   "nbconvert_exporter": "python",
   "pygments_lexer": "ipython3",
   "version": "3.9.13"
  },
  "orig_nbformat": 4,
  "vscode": {
   "interpreter": {
    "hash": "f8f14f5a7c49a331ac7a55934b43ce13bd28be1333db14e2d71768ad3378996c"
   }
  }
 },
 "nbformat": 4,
 "nbformat_minor": 2
}
