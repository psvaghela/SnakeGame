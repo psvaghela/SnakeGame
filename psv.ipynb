{
 "cells": [
  {
   "cell_type": "code",
   "execution_count": 1,
   "metadata": {},
   "outputs": [
    {
     "name": "stdout",
     "output_type": "stream",
     "text": [
      "maja ma\n"
     ]
    }
   ],
   "source": [
    "print(\"maja ma\")"
   ]
  },
  {
   "cell_type": "code",
   "execution_count": 3,
   "metadata": {},
   "outputs": [
    {
     "name": "stdout",
     "output_type": "stream",
     "text": [
      "['jdjhheu5', 'wmxjw j']\n"
     ]
    }
   ],
   "source": [
    "x = \"jdjhheu5\\wmxjw j\"\n",
    "p = x.split('\\\\')\n",
    "print(p)"
   ]
  },
  {
   "cell_type": "code",
   "execution_count": 1,
   "metadata": {},
   "outputs": [
    {
     "name": "stdout",
     "output_type": "stream",
     "text": [
      "Second element = 2\n",
      "An error occurred\n"
     ]
    }
   ],
   "source": [
    "a = [1, 2, 3]\n",
    "try:\n",
    "    print (\"Second element = %d\" %(a[1]))\n",
    " \n",
    "    # Throws error since there are only 3 elements in array\n",
    "    print (\"Fourth element = %d\" %(a[3]))\n",
    " \n",
    "except:\n",
    "    print (\"An error occurred\")"
   ]
  },
  {
   "cell_type": "code",
   "execution_count": 15,
   "metadata": {},
   "outputs": [
    {
     "name": "stdout",
     "output_type": "stream",
     "text": [
      "\u001b[1;31mSignature:\u001b[0m \u001b[0mpd\u001b[0m\u001b[1;33m.\u001b[0m\u001b[0mshow_versions\u001b[0m\u001b[1;33m(\u001b[0m\u001b[0mas_json\u001b[0m\u001b[1;33m:\u001b[0m \u001b[1;34m'str | bool'\u001b[0m \u001b[1;33m=\u001b[0m \u001b[1;32mFalse\u001b[0m\u001b[1;33m)\u001b[0m \u001b[1;33m->\u001b[0m \u001b[1;34m'None'\u001b[0m\u001b[1;33m\u001b[0m\u001b[1;33m\u001b[0m\u001b[0m\n",
      "\u001b[1;31mDocstring:\u001b[0m\n",
      "Provide useful information, important for bug reports.\n",
      "\n",
      "It comprises info about hosting operation system, pandas version,\n",
      "and versions of other installed relative packages.\n",
      "\n",
      "Parameters\n",
      "----------\n",
      "as_json : str or bool, default False\n",
      "    * If False, outputs info in a human readable form to the console.\n",
      "    * If str, it will be considered as a path to a file.\n",
      "      Info will be written to that file in JSON format.\n",
      "    * If True, outputs info in JSON format to the console.\n",
      "\u001b[1;31mFile:\u001b[0m      c:\\users\\dell\\appdata\\local\\packages\\pythonsoftwarefoundation.python.3.9_qbz5n2kfra8p0\\localcache\\local-packages\\python39\\site-packages\\pandas\\util\\_print_versions.py\n",
      "\u001b[1;31mType:\u001b[0m      function\n"
     ]
    }
   ],
   "source": [
    "import pandas as pd\n",
    "pd.show_versions"
   ]
  },
  {
   "cell_type": "code",
   "execution_count": null,
   "metadata": {},
   "outputs": [],
   "source": []
  },
  {
   "cell_type": "code",
   "execution_count": 1,
   "metadata": {},
   "outputs": [],
   "source": [
    "from datetime import date\n"
   ]
  },
  {
   "cell_type": "code",
   "execution_count": 6,
   "metadata": {},
   "outputs": [],
   "source": [
    "dt = str(date.today())\n",
    "file_name = \"laravel.csv\"\n"
   ]
  },
  {
   "cell_type": "code",
   "execution_count": 8,
   "metadata": {},
   "outputs": [
    {
     "name": "stdout",
     "output_type": "stream",
     "text": [
      "E:\\HR_DB\\2022-07-14\\Final\\2022-07-13_laravel.csv\n"
     ]
    }
   ],
   "source": [
    "file_final = \"E:\\\\HR_DB\\\\2022-07-14\\\\Final\\\\\" + dt + \"_\" + file_name\n",
    "print(file_final)"
   ]
  },
  {
   "cell_type": "code",
   "execution_count": 18,
   "metadata": {},
   "outputs": [
    {
     "name": "stdout",
     "output_type": "stream",
     "text": [
      "3\n",
      "done.....\n"
     ]
    }
   ],
   "source": [
    "x = [1,2,3,4]\n",
    "try:\n",
    "    print(x[2])\n",
    "except IndexError:\n",
    "    print(\"None\")\n",
    "finally:\n",
    "    print(\"done.....\")"
   ]
  },
  {
   "cell_type": "code",
   "execution_count": 4,
   "metadata": {},
   "outputs": [
    {
     "name": "stdout",
     "output_type": "stream",
     "text": [
      "E:\\HR_DB\\2022-07-15\\New\\2022-07-15_laravel.csv\n",
      "E:\\HR_DB\\2022-07-14\\New\\2022-07-14_laravel.csv\n",
      "E:\\HR_DB\\2022-07-15\\Final\\2022-07-15_laravel.csv\n"
     ]
    }
   ],
   "source": [
    "from datetime import date\n",
    "dt = str(date.today())   # Today's date\n",
    "file_name = \"laravel.csv\"\n",
    "dy = dt.replace(dt[-1],str(int(dt[-1])-1))\n",
    "file_new = \"E:\\\\HR_DB\\\\\" + dt + \"\\\\New\\\\\" + dt + \"_\" + file_name  # New File\n",
    "file_old = \"E:\\\\HR_DB\\\\\" + dy + \"\\\\New\\\\\" + dy + \"_\" + file_name   # Old File(yesterday's)\n",
    "file_final = \"E:\\\\HR_DB\\\\\" + dt + \"\\\\Final\\\\\" + dt + \"_\" + file_name # Final file containing unique elements.\n",
    "\n",
    "print(file_new)\n",
    "print(file_old)\n",
    "print(file_final)"
   ]
  },
  {
   "cell_type": "code",
   "execution_count": 10,
   "metadata": {},
   "outputs": [
    {
     "name": "stdout",
     "output_type": "stream",
     "text": [
      "2022-07-15 00:00:00\n"
     ]
    }
   ],
   "source": [
    "from datetime import datetime\n",
    "run_date=str(date.today())\n",
    "\n",
    "rday=run_date[8:10]\n",
    "rmonth=run_date[5:7]\n",
    "ryear=run_date[0:4]\n",
    "rd =str(ryear+\"/\"+rmonth+\"/\"+rday)\n",
    "d1 = datetime.strptime(rd, \"%Y/%m/%d\")\n",
    "print(d1)"
   ]
  },
  {
   "cell_type": "code",
   "execution_count": 1,
   "metadata": {},
   "outputs": [
    {
     "name": "stdout",
     "output_type": "stream",
     "text": [
      "2022-07-15\n"
     ]
    }
   ],
   "source": [
    "from datetime import date  \n",
    "print(str(date.today()))"
   ]
  },
  {
   "cell_type": "code",
   "execution_count": 3,
   "metadata": {},
   "outputs": [],
   "source": [
    "from datetime import date\n",
    "\n",
    "dt = str(date.today())   # Today's date\n",
    "dy = dt.replace(dt[-1],str(int(dt[-1])-1))  # yesterday date\n"
   ]
  },
  {
   "cell_type": "code",
   "execution_count": 4,
   "metadata": {},
   "outputs": [
    {
     "name": "stdout",
     "output_type": "stream",
     "text": [
      "E:\\TECH_DB\\2022-07-15\\wordpress.csv\n",
      "E:\\TECH_DB\\2022-07-15\\wordpress.csv\n"
     ]
    }
   ],
   "source": [
    "file_name = \"wordpress.csv\"\n",
    "path_old = \"E:\\\\TECH_DB\\\\\" + dy + \"\\\\\" + file_name  # Yesterday\n",
    "path_file = \"E:\\\\TECH_DB\\\\\" + dt + \"\\\\\" + file_name  # New posts that are increased Today than yesterday\n",
    "print(path_file)\n",
    "print(path_file)"
   ]
  },
  {
   "cell_type": "code",
   "execution_count": 3,
   "metadata": {},
   "outputs": [
    {
     "name": "stdout",
     "output_type": "stream",
     "text": [
      "1 6 8 2 55 8 7 5\n"
     ]
    }
   ],
   "source": [
    "x = [1,6,8,2,55,8,7,5]\n",
    "print(*x,sep=\" \")"
   ]
  },
  {
   "cell_type": "code",
   "execution_count": 5,
   "metadata": {},
   "outputs": [
    {
     "name": "stdout",
     "output_type": "stream",
     "text": [
      "Nonke\n"
     ]
    }
   ],
   "source": [
    "l = str(input())\n",
    "if int(l) == l :\n",
    "    print('Integer')\n",
    "elif float(l) == l :\n",
    "    print('Float')\n",
    "else :\n",
    "    print('Nonke')"
   ]
  },
  {
   "cell_type": "code",
   "execution_count": 31,
   "metadata": {},
   "outputs": [
    {
     "name": "stdout",
     "output_type": "stream",
     "text": [
      "None\n"
     ]
    }
   ],
   "source": [
    "a = str(input())\n",
    "if a.isdigit():\n",
    "    print(\"Integer\")\n",
    "elif a.replace('.','').isdigit():\n",
    "    print(\"Float\")\n",
    "else:\n",
    "    print(\"None\")"
   ]
  },
  {
   "cell_type": "code",
   "execution_count": 3,
   "metadata": {},
   "outputs": [
    {
     "name": "stdout",
     "output_type": "stream",
     "text": [
      "['4458522155']\n"
     ]
    }
   ],
   "source": [
    "x = '4458522155'\n",
    "print(x.split(''))"
   ]
  },
  {
   "cell_type": "code",
   "execution_count": 1,
   "metadata": {},
   "outputs": [
    {
     "data": {
      "text/plain": [
       "',1,2,3,4,'"
      ]
     },
     "execution_count": 1,
     "metadata": {},
     "output_type": "execute_result"
    }
   ],
   "source": [
    "x = \"1234\"\n",
    "x.replace('',',')"
   ]
  },
  {
   "cell_type": "code",
   "execution_count": 2,
   "metadata": {},
   "outputs": [
    {
     "name": "stdout",
     "output_type": "stream",
     "text": [
      "2022-07-19\n",
      "2022-07-18\n"
     ]
    }
   ],
   "source": [
    "from datetime import date\n",
    "dt = str(date.today())   # Today's date\n",
    "dy = dt.replace(dt[-1],str(int(dt[-1])-1)) \n",
    "print(dt)\n",
    "print(dy)"
   ]
  },
  {
   "cell_type": "code",
   "execution_count": null,
   "metadata": {},
   "outputs": [],
   "source": []
  }
 ],
 "metadata": {
  "kernelspec": {
   "display_name": "Python 3.9.13 64-bit (windows store)",
   "language": "python",
   "name": "python3"
  },
  "language_info": {
   "codemirror_mode": {
    "name": "ipython",
    "version": 3
   },
   "file_extension": ".py",
   "mimetype": "text/x-python",
   "name": "python",
   "nbconvert_exporter": "python",
   "pygments_lexer": "ipython3",
   "version": "3.9.13"
  },
  "orig_nbformat": 4,
  "vscode": {
   "interpreter": {
    "hash": "f8f14f5a7c49a331ac7a55934b43ce13bd28be1333db14e2d71768ad3378996c"
   }
  }
 },
 "nbformat": 4,
 "nbformat_minor": 2
}
